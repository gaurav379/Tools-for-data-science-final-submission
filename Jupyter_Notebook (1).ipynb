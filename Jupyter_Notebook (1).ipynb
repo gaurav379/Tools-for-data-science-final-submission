{
  "metadata": {
    "kernelspec": {
      "name": "python",
      "display_name": "Pyolite",
      "language": "python"
    },
    "language_info": {
      "codemirror_mode": {
        "name": "python",
        "version": 3
      },
      "file_extension": ".py",
      "mimetype": "text/x-python",
      "name": "python",
      "nbconvert_exporter": "python",
      "pygments_lexer": "ipython3",
      "version": "3.8"
    }
  },
  "nbformat_minor": 4,
  "nbformat": 4,
  "cells": [
    {
      "cell_type": "markdown",
      "source": "<center>\n    <img src=\"https://s3-api.us-geo.objectstorage.softlayer.net/cf-courses-data/CognitiveClass/Logos/organization_logo/organization_logo.png\" width=\"300\" alt=\"cognitiveclass.ai logo\"  />\n</center>\n",
      "metadata": {}
    },
    {
      "cell_type": "markdown",
      "source": "#### Add your code below following the instructions given in the course\n",
      "metadata": {}
    },
    {
      "cell_type": "markdown",
      "source": "# My Jupyter Notebook on IBM Watson Studio",
      "metadata": {}
    },
    {
      "cell_type": "markdown",
      "source": "# GAURAV KUMAR SHARMA\n####  Business Analyst",
      "metadata": {}
    },
    {
      "cell_type": "markdown",
      "source": "*I am interested in data science beacuse it is kind of a cool to predict future using data*",
      "metadata": {}
    },
    {
      "cell_type": "markdown",
      "source": "### Upcoming code will be about printing hello world!",
      "metadata": {}
    },
    {
      "cell_type": "code",
      "source": "print(\"Hello world!\")",
      "metadata": {
        "trusted": true
      },
      "execution_count": 2,
      "outputs": [
        {
          "name": "stdout",
          "text": "Hello world!\n",
          "output_type": "stream"
        }
      ]
    },
    {
      "cell_type": "markdown",
      "source": "ID chart\n\n| Name       | class         | roll  |\n| ------------- |:-------------:| -----:|\n| gaurav     | 5 | 24 |\n| amit     | 6      |   25 |\n| rohit | 7      |    26 |\n\n* this is gaurav\n* i work in automotive sector\n* field research and development\n\n[1](https://www.google.com)\n[11](https://www.google.com)\n[111](https://www.google.com)",
      "metadata": {}
    },
    {
      "cell_type": "code",
      "source": "",
      "metadata": {},
      "execution_count": null,
      "outputs": []
    }
  ]
}